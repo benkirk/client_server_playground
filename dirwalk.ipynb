{
 "cells": [
  {
   "cell_type": "markdown",
   "metadata": {},
   "source": [
    "## Start Dask Client\n",
    "\n",
    "Unlike for arrays and dataframes, you need the Dask client to use the Futures interface.  Additionally the client provides a dashboard which \n",
    "is useful to gain insight on the computation.\n",
    "\n",
    "The link to the dashboard will become visible when you create the client below.  We recommend having it open on one side of your screen while using your notebook on the other side.  This can take some effort to arrange your windows, but seeing them both at the same is very useful when learning."
   ]
  },
  {
   "cell_type": "code",
   "execution_count": null,
   "metadata": {},
   "outputs": [],
   "source": [
    "from dask.distributed import Client, progress\n",
    "client = Client(threads_per_worker=8, n_workers=1)\n",
    "client"
   ]
  },
  {
   "cell_type": "code",
   "execution_count": null,
   "metadata": {},
   "outputs": [],
   "source": [
    "import os, sys, stat\n",
    "import shutil\n",
    "\n",
    "def process_directory(dirname):\n",
    "    more_dirs = []\n",
    "    # last-minute check for a race condition:\n",
    "    if not os.path.exists(dirname):\n",
    "        print('directory \\'{}\\' vanished'.format(dirname), file=sys.stderr)\n",
    "        return more_dirs\n",
    "\n",
    "    #print(dirname)\n",
    "\n",
    "    try:\n",
    "        for di in os.scandir(dirname):\n",
    "            pathname = di.path\n",
    "            statinfo = di.stat(follow_symlinks=False)\n",
    "            #print(statinfo)\n",
    "            \n",
    "            # decode file type\n",
    "            fmode = statinfo.st_mode\n",
    "\n",
    "            if stat.S_ISDIR(fmode):\n",
    "                #print('d: '+pathname)\n",
    "                more_dirs.append(pathname)\n",
    "            else:\n",
    "                #print('f: '+pathname)\n",
    "                pass\n",
    "            \n",
    "    except PermissionError as error:\n",
    "        print('Cannot scan: {}'.format(error), file=sys.stderr)\n",
    "        #raise\n",
    "        \n",
    "    return more_dirs\n",
    "\n",
    "#def process_directories(list_of_dirs):\n",
    "#    more_dirs = \n",
    "#    for d in list_of_dirs:"
   ]
  },
  {
   "cell_type": "code",
   "execution_count": null,
   "metadata": {},
   "outputs": [],
   "source": [
    "#client.cluster.scale(10)  # ask for ten 4-thread workers"
   ]
  },
  {
   "cell_type": "code",
   "execution_count": null,
   "metadata": {},
   "outputs": [],
   "source": [
    "#process_directory(os.getenv('HOME'))"
   ]
  },
  {
   "cell_type": "code",
   "execution_count": null,
   "metadata": {},
   "outputs": [],
   "source": [
    "%%time\n",
    "from dask.distributed import as_completed\n",
    "\n",
    "zs = []\n",
    "zs.append(client.submit(process_directory, os.getenv('HOME')))\n",
    "zs.append(client.submit(process_directory, '/usr/local'))\n",
    "\n",
    "seq = as_completed(zs,with_results=True)\n",
    "\n",
    "for future,result in seq:\n",
    "    for d in result:\n",
    "        #print(d)\n",
    "        seq.add(client.submit(process_directory, d))\n"
   ]
  },
  {
   "cell_type": "code",
   "execution_count": null,
   "metadata": {},
   "outputs": [],
   "source": []
  }
 ],
 "metadata": {
  "anaconda-cloud": {},
  "kernelspec": {
   "display_name": "Python 3 (ipykernel)",
   "language": "python",
   "name": "python3"
  },
  "language_info": {
   "codemirror_mode": {
    "name": "ipython",
    "version": 3
   },
   "file_extension": ".py",
   "mimetype": "text/x-python",
   "name": "python",
   "nbconvert_exporter": "python",
   "pygments_lexer": "ipython3",
   "version": "3.12.3"
  }
 },
 "nbformat": 4,
 "nbformat_minor": 4
}
